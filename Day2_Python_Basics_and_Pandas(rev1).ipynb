{
  "nbformat": 4,
  "nbformat_minor": 0,
  "metadata": {
    "colab": {
      "name": "Day2 - Python Basics and Pandas(rev1).ipynb",
      "provenance": [],
      "collapsed_sections": [],
      "toc_visible": true
    },
    "kernelspec": {
      "name": "python3",
      "display_name": "Python 3"
    },
    "language_info": {
      "name": "python"
    }
  },
  "cells": [
    {
      "cell_type": "markdown",
      "metadata": {
        "id": "7xPORWOj7o0k"
      },
      "source": [
        "# Python Basics (2)"
      ]
    },
    {
      "cell_type": "markdown",
      "metadata": {
        "id": "Uwv6tdhT8Dp9"
      },
      "source": [
        "## 함수(Function)"
      ]
    },
    {
      "cell_type": "code",
      "metadata": {
        "id": "xBW_arZD8Hpi"
      },
      "source": [
        "def sum(a,b):\n",
        "    return a+b\n",
        "\n",
        "a = 3\n",
        "b = 4\n",
        "\n",
        "c = sum(a,b)\n",
        "print(c)"
      ],
      "execution_count": null,
      "outputs": []
    },
    {
      "cell_type": "code",
      "metadata": {
        "id": "Lcdai-0D8KqF"
      },
      "source": [
        "def sum_and_mul(a,b):\n",
        "    return a+b, a*b\n",
        "\n",
        "c, d = sum_and_mul(4,5) \n",
        "\n",
        "print(c, d)"
      ],
      "execution_count": null,
      "outputs": []
    },
    {
      "cell_type": "code",
      "metadata": {
        "id": "JozVRihI8PER"
      },
      "source": [
        "# lambda를 사용한 간단한 함수\n",
        "\n",
        "add = lambda a, b : a + b\n",
        "add(2,3"
      ],
      "execution_count": null,
      "outputs": []
    },
    {
      "cell_type": "markdown",
      "metadata": {
        "id": "4m8aq5Ya_9Oa"
      },
      "source": [
        "## 리스트(List) 자료형"
      ]
    },
    {
      "cell_type": "code",
      "metadata": {
        "id": "Zf-c8U_WAIrE"
      },
      "source": [
        "a = [1, 2, 3, 4, 5, 6]\n",
        "print(a)\n",
        "print(type(a))\n",
        "\n",
        "print(a[0])\n",
        "print(a[3])\n",
        "print(a[-1])"
      ],
      "execution_count": null,
      "outputs": []
    },
    {
      "cell_type": "code",
      "metadata": {
        "id": "NKlGCnYLAP9N"
      },
      "source": [
        "a = [\"Lim\", \"Park\", \"Shin\", \"Kim\", \"Lee\"]\n",
        "print(a)\n",
        "print(type(a))\n",
        "\n",
        "print(a[0])\n",
        "print(a[3])\n",
        "print(a[-1])"
      ],
      "execution_count": null,
      "outputs": []
    },
    {
      "cell_type": "code",
      "metadata": {
        "id": "m7gCljE7Awza"
      },
      "source": [
        "a = [1, 2, 3, 4, 5, 6]\n",
        "print(len(a))"
      ],
      "execution_count": null,
      "outputs": []
    },
    {
      "cell_type": "code",
      "metadata": {
        "id": "RjnyvxsmBa_B"
      },
      "source": [
        "a = [1, 2, 3, ['a', 'b', 'c']]\n",
        "\n",
        "for i in a:\n",
        "  print(i)\n",
        "\n",
        "print(a[-1])\n",
        "print(a[-1][0])"
      ],
      "execution_count": null,
      "outputs": []
    },
    {
      "cell_type": "code",
      "metadata": {
        "id": "GkpzUkhlBp5c"
      },
      "source": [
        "a = [1, 2, 3, ['a', 'b', 'c']]\n",
        "\n",
        "print(a[-1])\n",
        "print(a[-1][0])"
      ],
      "execution_count": null,
      "outputs": []
    },
    {
      "cell_type": "code",
      "metadata": {
        "id": "UBdnKgQiCITT"
      },
      "source": [
        "a = [1, 2, 3, 4, 5]\n",
        "\n",
        "print(a[1:3])\n",
        "\n",
        "print(str(a[3])+'hi')\n",
        "\n",
        "a[2] = 100\n",
        "print(a)"
      ],
      "execution_count": null,
      "outputs": []
    },
    {
      "cell_type": "code",
      "metadata": {
        "id": "FMxwgfANCUFs"
      },
      "source": [
        "a = [1, 2, 3, 4, 5]\n",
        "print(a)\n",
        "\n",
        "a[1:2] = ['a', 'b', 'c']\n",
        "print(a)\n",
        "\n",
        "#a = [1, 2, 3, 4, 5]\n",
        "#\n",
        "#a[1] = ['a', 'b', 'c']\n",
        "#print(a)"
      ],
      "execution_count": null,
      "outputs": []
    },
    {
      "cell_type": "code",
      "metadata": {
        "id": "LjidJTLOCikG"
      },
      "source": [
        "a = [1, 2, 3, 4, 5]\n",
        "\n",
        "del a[1]\n",
        "print(a)"
      ],
      "execution_count": null,
      "outputs": []
    },
    {
      "cell_type": "markdown",
      "metadata": {
        "id": "FUQJYrm4CmO4"
      },
      "source": [
        "그 이외의 리스트 자료형 관련 함수들\n",
        "- append\n",
        "- sort\n",
        "- reverse\n",
        "- index\n",
        "- insert\n",
        "- remove\n",
        "- pop\n",
        "- count\n",
        "- extend"
      ]
    },
    {
      "cell_type": "code",
      "metadata": {
        "id": "7ldefjr1GuRz"
      },
      "source": [
        "a = [5, 3, 2, 4, 1]\n",
        "print(a)\n",
        "\n",
        "a.sort()\n",
        "print(a)\n",
        "\n",
        "a.sort(reverse=True)\n",
        "print(a)\n",
        "\n",
        "a = [\"Lim\", \"Park\", \"Shin\", \"Kim\", \"Lee\"]\n",
        "a.sort()\n",
        "print(a)"
      ],
      "execution_count": null,
      "outputs": []
    },
    {
      "cell_type": "markdown",
      "metadata": {
        "id": "-uNPRGszHlN9"
      },
      "source": [
        "## 튜플(Tuple) 자료형"
      ]
    },
    {
      "cell_type": "code",
      "metadata": {
        "id": "76UshSOZHoIX"
      },
      "source": [
        "a = (0, 1, 2, 3, 4, 5)\n",
        "print(a)\n",
        "print(a[0:3])\n",
        "\n",
        "#a[3] = 10        # 오류출력, 튜플은 수정, 삭제 불가능\n",
        "# del a[3]        # 오류출력, 튜플은 수정, 삭제 불가능"
      ],
      "execution_count": null,
      "outputs": []
    },
    {
      "cell_type": "markdown",
      "metadata": {
        "id": "0V1fM8iqId9q"
      },
      "source": [
        "## 집합(Set) 자료형"
      ]
    },
    {
      "cell_type": "code",
      "metadata": {
        "id": "wPtnVmcnIh72"
      },
      "source": [
        "s0 = {1, 1, 2, 2, 2, 3, 3, 3, 4, 4, 4, 4, 4, 4, 5}\n",
        "print(s0)\n",
        "\n",
        "s1 = set([1,2,3])\n",
        "print(s1)\n",
        "\n",
        "s2 = set('Hello')\n",
        "print(s2)"
      ],
      "execution_count": null,
      "outputs": []
    },
    {
      "cell_type": "code",
      "metadata": {
        "id": "1eZZx0fHJpeT"
      },
      "source": [
        "s1 = set([1, 2, 3, 4, 5, 6])\n",
        "s2 = set([4, 5, 6, 7, 8, 9])\n",
        "\n",
        "print(s1&s2)\n",
        "print(s1.intersection(s2))\n",
        "\n",
        "print(s1|s2)\n",
        "print(s1.union(s2))\n",
        "\n",
        "print(s1-s2)\n",
        "print(s1.difference(s2))"
      ],
      "execution_count": null,
      "outputs": []
    },
    {
      "cell_type": "markdown",
      "metadata": {
        "id": "Hu7odt_pJvo9"
      },
      "source": [
        "기타 집합 관련 함수 \n",
        "- add\n",
        "- update\n",
        "- remove"
      ]
    },
    {
      "cell_type": "markdown",
      "metadata": {
        "id": "9XNW2dxPKBNz"
      },
      "source": [
        "## 사전(Dictionary) 자료형"
      ]
    },
    {
      "cell_type": "code",
      "metadata": {
        "id": "T3mJMJHMKQE9"
      },
      "source": [
        "# Key : Value  형태로 데이터를 저장\n",
        "\n",
        "dic = {1:'KIM', 2:'PARK', 3:'LEE'}\n",
        "print(dic)\n",
        "\n",
        "dic[4] = 'CHOI'\n",
        "print(dic)\n",
        "\n",
        "dic[1] = 'LIM'\n",
        "print(dic)\n",
        "\n",
        "dic['noname'] = 'nonono'\n",
        "print(dic)\n",
        "\n",
        "print(dic[1])\n",
        "print(dic['noname'])\n",
        "\n",
        "del dic[1]\n",
        "print(dic)\n",
        "\n",
        "# print(dic['nokey'])    # 오류출력"
      ],
      "execution_count": null,
      "outputs": []
    },
    {
      "cell_type": "code",
      "metadata": {
        "id": "cYx121TVLZzY"
      },
      "source": [
        "dic = {1:'KIM', 2:'PARK', 3:'LEE'}\n",
        "\n",
        "# keys()는 dic_keys라는 객체를 return\n",
        "\n",
        "a = dic.keys()\n",
        "print(a, type(a))\n",
        "\n",
        "for k in dic.keys():\n",
        "    print(k)\n",
        "\n",
        "# dic_keys 객체를 다시 list로 변환해서 사용\n",
        "\n",
        "a = list(dic.keys())\n",
        "print(a, type(a))\n",
        "\n",
        "for k in a:\n",
        "    print(k)"
      ],
      "execution_count": null,
      "outputs": []
    },
    {
      "cell_type": "code",
      "metadata": {
        "id": "A-iuqeyxLmyu"
      },
      "source": [
        "dic = {1:'KIM', 2:'PARK', 3:'LEE'}\n",
        "print(dic)\n",
        "\n",
        "# 값(Value)\n",
        "a = dic.values()\n",
        "print(a, type(a))\n",
        "\n",
        "a = list(dic.values())\n",
        "print(a, type(a))\n",
        "\n",
        "# 키(Key)와 값(Value) 쌍\n",
        "a = dic.items()\n",
        "print(a, type(a))\n",
        "\n",
        "a = list(dic.items())\n",
        "print(a, type(a))"
      ],
      "execution_count": null,
      "outputs": []
    },
    {
      "cell_type": "code",
      "metadata": {
        "id": "-Ubo4Ky9MrHn"
      },
      "source": [
        "dic = {1:'KIM', 2:'PARK', 3:'LEE'}\n",
        "\n",
        "dic.clear()\n",
        "\n",
        "print(dic)"
      ],
      "execution_count": null,
      "outputs": []
    },
    {
      "cell_type": "code",
      "metadata": {
        "id": "CtXBGkBsMsKT"
      },
      "source": [
        "dic = {1:'KIM', 2:'PARK', 3:'LEE'}\n",
        "\n",
        "print(dic.get(1))\n",
        "print(dic.get('nokey'))\n",
        "print(dic.get('nokey', 'default return if no key'))\n",
        "\n",
        "print(1 in dic)\n",
        "print(4 in dic)"
      ],
      "execution_count": null,
      "outputs": []
    },
    {
      "cell_type": "markdown",
      "metadata": {
        "id": "InEfaxv85-HG"
      },
      "source": [
        "# Pandas 활용\n",
        "- 파이썬 데이터 분석 라이브러리\n",
        "- 데이터 처리(구조화, 병합/조인, 추출 등)에 최적화\n",
        "- R의 data.frame과 유사한 구조"
      ]
    },
    {
      "cell_type": "markdown",
      "metadata": {
        "id": "CLiCdql6Qd0e"
      },
      "source": [
        "## 데이터 읽어오기"
      ]
    },
    {
      "cell_type": "code",
      "metadata": {
        "id": "LWk761GK6fX8"
      },
      "source": [
        "# CSV 파일에서 읽어오기\n",
        "\n",
        "import pandas\n",
        "\n",
        "df1 = pandas.read_csv(\"https://raw.githubusercontent.com/YONESI-DBIS/DS_Lecture/main/UB_Data.csv\")\n",
        "print(df1)\n",
        "print(\"=\" * 20)\n",
        "df1.head()"
      ],
      "execution_count": null,
      "outputs": []
    },
    {
      "cell_type": "code",
      "metadata": {
        "id": "BLExSL_WRyGn"
      },
      "source": [
        "# Excel 파일에서 읽어오기\n",
        "\n",
        "import pandas\n",
        "\n",
        "df2 = pandas.read_excel(\"https://raw.githubusercontent.com/YONESI-DBIS/DS_Lecture/main/UB_Data.xlsx\")\n",
        "print(df2)\n",
        "print(\"=\" * 20)\n",
        "df2.head()"
      ],
      "execution_count": null,
      "outputs": []
    },
    {
      "cell_type": "markdown",
      "metadata": {
        "id": "PNGzk3dZZnwc"
      },
      "source": [
        "## 데이터 추출"
      ]
    },
    {
      "cell_type": "code",
      "metadata": {
        "id": "QG7MjiKCZtGd"
      },
      "source": [
        "print(type(df1))\n",
        "print(type(df2))"
      ],
      "execution_count": null,
      "outputs": []
    },
    {
      "cell_type": "code",
      "metadata": {
        "id": "xIof1hESZ-oT"
      },
      "source": [
        "# 열 이름으로 추출\n",
        "\n",
        "age_df = df1['Age']\n",
        "print(age_df)\n",
        "print(type(age_df))\n",
        "\n",
        "print(\"=\" * 20)\n",
        "\n",
        "df3 = df1[['Age','ZIPCode']]\n",
        "print(df3)\n",
        "print(type(df3))"
      ],
      "execution_count": null,
      "outputs": []
    },
    {
      "cell_type": "code",
      "metadata": {
        "id": "aqK2oq7YcceL"
      },
      "source": [
        "# 행 추출\n",
        "\n",
        "# 인덱스: 위의 print 결과에서 왼쪽에 보이는 번호. 숫자, 문자열 모두 가능. 변하지 않음. 추출을 위해서 loc 사용\n",
        "# 행번호: 데이터의 순서에 따라 자동으로 붙는 번호. 정수만 가능. 추출을 위해서 iloc 사용\n",
        "\n",
        "\n",
        "######\n",
        "# 인덱스로 추출\n",
        "print(df1.loc[0])\n",
        "#print(df1.loc[[0,99, 199, 299]])\n",
        "#print(df1.loc[9:19])\n",
        "\n",
        "# print(print(df1.loc[-1]))    # 에러: -1이라는 인덱스를 가진 행이 없음\n",
        "\n",
        "print(\"=\" * 20)\n",
        "\n",
        "######\n",
        "# 행번호로 추출\n",
        "print(df1.iloc[0])\n",
        "#print(df1.iloc[[0,99, 199, 299]])\n",
        "\n",
        "#print(print(df1.iloc[-1]))\n",
        "\n",
        "\n",
        "\n",
        "\n",
        "# 인덱스와 행번호의 차이\n",
        "\n",
        "#df3 = df1.drop(index=0)        # 인덱스가 0인 데이터 삭제\n",
        "#df3 = df1.drop(df1.index[0])   # 첫번째 데이터 삭제\n",
        "#print(df1)\n",
        "print(df3)\n",
        "\n",
        "#print(df3.loc[0])        # 오류: 인덱스가 0인 데이터는 삭제되었음\n",
        "#print(df3.iloc[0])       # OK: 첫번째 데이터가 존재함\n",
        "\n"
      ],
      "execution_count": null,
      "outputs": []
    },
    {
      "cell_type": "code",
      "metadata": {
        "id": "3NnYRofIim4p"
      },
      "source": [
        "# Let's Together\n",
        "\n",
        "result1_df = df1.loc[0:10, [\"ID\", \"Age\", \"ZIPCode\", \"Family\"]]\n",
        "print(result1_df)\n",
        "\n",
        "#is_over40 = df1['Age'] > 40\n",
        "#result2_df = df1[is_over40]\n",
        "#print(result2_df)\n",
        "\n",
        "#result3_df = df1.loc[is_over40, [\"ID\", \"Age\", \"ZIPCode\", \"Family\"]]\n",
        "#print(result3_df)\n",
        "\n",
        "#is_more2Family = df1['Family'] > 2\n",
        "#result4_df = df1.loc[is_over40 & is_more2Family, [\"ID\", \"Age\", \"ZIPCode\", \"Family\"]]\n",
        "#print(result4_df)\n"
      ],
      "execution_count": null,
      "outputs": []
    },
    {
      "cell_type": "markdown",
      "metadata": {
        "id": "Bg9WClnSrJ6O"
      },
      "source": [
        "## 데이터 합치기"
      ]
    },
    {
      "cell_type": "code",
      "metadata": {
        "id": "f-MnlwN-rNLE"
      },
      "source": [
        "df3 = pandas.concat([df1, df2])\n",
        "print(df3)\n",
        "\n",
        "df3 = pandas.concat([df1, df2], ignore_index=True)\n",
        "print(df3)"
      ],
      "execution_count": null,
      "outputs": []
    },
    {
      "cell_type": "markdown",
      "metadata": {
        "id": "J6TWf8L6MGUT"
      },
      "source": [
        "## 파일로 저장"
      ]
    },
    {
      "cell_type": "code",
      "metadata": {
        "id": "FarhbfvTLb-U"
      },
      "source": [
        "from google.colab import files\n",
        "\n",
        "df3.to_csv('new_file.csv')\n",
        "\n",
        "files.download('new_file.csv')"
      ],
      "execution_count": null,
      "outputs": []
    },
    {
      "cell_type": "markdown",
      "metadata": {
        "id": "CqHYTQG3mivJ"
      },
      "source": [
        "## 기본적인 데이터 분석"
      ]
    },
    {
      "cell_type": "code",
      "metadata": {
        "id": "4QWe0x9lp46k"
      },
      "source": [
        "# 통계 요약\n",
        "\n",
        "df1.describe()"
      ],
      "execution_count": null,
      "outputs": []
    },
    {
      "cell_type": "code",
      "metadata": {
        "id": "FFdbSde-ml_-"
      },
      "source": [
        "# 평균구하기\n",
        "\n",
        "a = df1['Age'].mean()\n",
        "print(a)\n",
        "\n",
        "a = df1.groupby('Age')['Income'].mean()\n",
        "print(a)\n",
        "\n",
        "a = df1.groupby('Age')[['Income','Education']].mean()\n",
        "print(a)\n",
        "\n",
        "a = df1.groupby(['Age','Family'])[['Income','Education']].mean()\n",
        "print(a)"
      ],
      "execution_count": null,
      "outputs": []
    },
    {
      "cell_type": "code",
      "metadata": {
        "id": "5uhRbSDno_Ic"
      },
      "source": [
        "# 카운팅\n",
        "\n",
        "print(\"=== COUNT\")\n",
        "a = df1.groupby('Age')['Income'].count()\n",
        "print(a)\n",
        "\n",
        "# 합계\n",
        "\n",
        "print(\"=== SUM\")\n",
        "a = df1.groupby('Age')['Income'].sum()\n",
        "print(a)\n",
        "\n",
        "# 표준편차\n",
        "\n",
        "print(\"=== STD\")\n",
        "a = df1.groupby('Age')['Income'].std()\n",
        "print(a)\n",
        "\n",
        "# 최소/최대 값\n",
        "\n",
        "print(\"=== MIN\")\n",
        "a = df1.groupby('Age')['Income'].min()\n",
        "print(a)\n",
        "\n",
        "print(\"=== MAX\")\n",
        "a = df1.groupby('Age')['Income'].max()\n",
        "print(a)\n",
        "\n",
        "# 상관관계\n",
        "print(\"=== CORRELATION\")\n",
        "print(df1.corr()['Age'])\n"
      ],
      "execution_count": null,
      "outputs": []
    },
    {
      "cell_type": "code",
      "metadata": {
        "id": "Pm3MxkXOyUz7"
      },
      "source": [
        "# Let's Party!!\n",
        "\n",
        "print(df1['Age'].mean())\n",
        "\n",
        "result4_df = df1.loc[df1['Age'] >= df1['Age'].mean(), [\"ID\", \"Age\", \"ZIPCode\", \"Family\"]]\n",
        "print(result4_df)\n"
      ],
      "execution_count": null,
      "outputs": []
    },
    {
      "cell_type": "code",
      "metadata": {
        "id": "MuEWsqUx7MZi"
      },
      "source": [
        "df1['Age'].hist();\n",
        "\n",
        "df1.plot.scatter('Age', 'Income')"
      ],
      "execution_count": null,
      "outputs": []
    }
  ]
}