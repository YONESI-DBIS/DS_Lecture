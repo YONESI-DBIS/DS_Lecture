{
  "nbformat": 4,
  "nbformat_minor": 0,
  "metadata": {
    "colab": {
      "name": "Day 4 - Data Visualization.ipynb",
      "provenance": [],
      "collapsed_sections": [],
      "toc_visible": true
    },
    "kernelspec": {
      "name": "python3",
      "display_name": "Python 3"
    },
    "language_info": {
      "name": "python"
    }
  },
  "cells": [
    {
      "cell_type": "markdown",
      "metadata": {
        "id": "B_3rImVeyrUo"
      },
      "source": [
        "## 데이터 읽기 / 정렬하기"
      ]
    },
    {
      "cell_type": "code",
      "metadata": {
        "id": "IJLaav_JXO2t"
      },
      "source": [
        "# CSV 파일에서 읽어오기\n",
        "\n",
        "import pandas\n",
        "\n",
        "df1 = pandas.read_csv(\"https://raw.githubusercontent.com/YONESI-DBIS/DS_Lecture/main/UB_Data.csv\")\n",
        "print(df1)\n",
        "print(\"=\" * 20)\n",
        "df1.head()"
      ],
      "execution_count": null,
      "outputs": []
    },
    {
      "cell_type": "code",
      "metadata": {
        "id": "wmEDADbZNqDT"
      },
      "source": [
        "# Data Frame 정렬(sorting)\n",
        "\n",
        "df1_desc = df1.groupby('Age')['Income'].describe()\n",
        "print(df1_desc)\n",
        "\n",
        "#print(\"=\" * 20)\n",
        "#df1_desc_sorted = df1_desc.sort_values(by = 'mean')\n",
        "#print(df1_desc_sorted)"
      ],
      "execution_count": null,
      "outputs": []
    },
    {
      "cell_type": "markdown",
      "metadata": {
        "id": "o4JFLbk7zOE4"
      },
      "source": [
        "## 데이터 시각화(Visualization)"
      ]
    },
    {
      "cell_type": "code",
      "metadata": {
        "id": "Gwr_Y077X9c_"
      },
      "source": [
        "import matplotlib\n",
        "import matplotlib.pyplot as plt\n",
        "\n",
        "df1_desc = df1.groupby('Age')['Income'].describe()\n",
        "#print(df1_desc)\n",
        "df1_desc = df1_desc.reset_index()\n",
        "print(df1_desc)"
      ],
      "execution_count": null,
      "outputs": []
    },
    {
      "cell_type": "markdown",
      "metadata": {
        "id": "lSmFr249zaJA"
      },
      "source": [
        "### 기본 Plot Chart"
      ]
    },
    {
      "cell_type": "code",
      "metadata": {
        "id": "uqAJ9q3RYku-"
      },
      "source": [
        "x = df1_desc['Age']\n",
        "y = df1_desc['mean']\n",
        "\n",
        "plt.plot(x, y)\n",
        "\n",
        "plt.title('Mean of Incomes by Ages')\n",
        "plt.xlabel('Ages')\n",
        "plt.ylabel('Mean of Incomes')\n",
        "plt.show()"
      ],
      "execution_count": null,
      "outputs": []
    },
    {
      "cell_type": "code",
      "metadata": {
        "id": "ARWYxNdii3NU"
      },
      "source": [
        "plt.plot(x, y, color='blue', linestyle='solid', marker='o')\n",
        "\n",
        "plt.title('Mean of Incomes by Ages')\n",
        "plt.xlabel('Ages')\n",
        "plt.ylabel('Mean of Incomes')\n",
        "plt.show()"
      ],
      "execution_count": null,
      "outputs": []
    },
    {
      "cell_type": "code",
      "metadata": {
        "id": "V8hdb-THjLZM"
      },
      "source": [
        "plt.grid(True)\n",
        "plt.plot(x, y, color='blue', linestyle='solid', marker='o')\n",
        "\n",
        "plt.title('Mean of Incomes by Ages')\n",
        "plt.xlabel('Ages')\n",
        "plt.ylabel('Mean of Incomes')\n",
        "plt.show()"
      ],
      "execution_count": null,
      "outputs": []
    },
    {
      "cell_type": "markdown",
      "metadata": {
        "id": "V8Tb6I10WZZy"
      },
      "source": [
        "### 다중 Plot Chart\n",
        "\n",
        "- matplotlib 패키지 사용 개요\n",
        "\n",
        " - 전체 차트가 위치할 기본 틀 만들기\n",
        " - 차트를 그려 넣을 격자 만들기\n",
        " - 격자에 차트 추가 (왼쪽->오른쪽)\n",
        " - 격자의 첫번째 행이 꽉 차면 두번째 행에 차트를 그려넣음"
      ]
    },
    {
      "cell_type": "code",
      "metadata": {
        "id": "eKjG37AXXLf1"
      },
      "source": [
        "x = df1_desc['Age']\n",
        "y1 = df1_desc['mean']\n",
        "y2 = df1_desc['50%']\n",
        "\n",
        "#fig = plt.figure(figsize=(15,8))\n",
        "fig = plt.figure()\n",
        "\n",
        "chart1 = fig.add_subplot(1, 2, 1)   # 1 x 2 중 첫번째\n",
        "chart2 = fig.add_subplot(1, 2, 2)   # 1 x 2 중 두번째\n",
        "\n",
        "chart1.plot(x, y1, color='blue', linestyle='solid', marker='.')\n",
        "chart2.plot(x, y2, color='red', linestyle='solid', marker='.')\n",
        "\n",
        "chart1.set_title('mean')\n",
        "chart2.set_title('median')\n",
        "\n",
        "fig.suptitle('Mean and median of Incomes by Ages')\n",
        "\n",
        "#fig.tight_layout()\n",
        "\n",
        "fig.show()\n"
      ],
      "execution_count": null,
      "outputs": []
    },
    {
      "cell_type": "code",
      "metadata": {
        "id": "CL3XvxE0joZQ"
      },
      "source": [
        "x = df1_desc['Age']\n",
        "y1 = df1_desc['mean']\n",
        "y2 = df1_desc['50%']\n",
        "\n",
        "fig = plt.figure()\n",
        "chart1 = fig.add_subplot(1, 1, 1)\n",
        "\n",
        "chart1.set_title('Mean and median Incomes by Ages')\n",
        "chart1.set_ylabel('Mean', color='red')\n",
        "chart1.plot(x, y1, color='red')\n",
        "chart1.tick_params(axis='y', labelcolor='red')\n",
        "\n",
        "chart2 = chart1.twinx()                     # 값은 x축을 공유하는 새로운 축\n",
        "chart2.set_ylabel('median', color='blue')\n",
        "chart2.plot(x, y2, color='blue')\n",
        "chart2.tick_params(axis='y', labelcolor='blue')\n",
        "\n",
        "fig.tight_layout()\n",
        "\n",
        "plt.show()\n"
      ],
      "execution_count": null,
      "outputs": []
    },
    {
      "cell_type": "markdown",
      "metadata": {
        "id": "nEwwcHwaz1Gz"
      },
      "source": [
        "### Bar Chart"
      ]
    },
    {
      "cell_type": "code",
      "metadata": {
        "id": "RZg2BsYqaJet"
      },
      "source": [
        "x = df1_desc['Age']\n",
        "y = df1_desc['mean']\n",
        "\n",
        "\n",
        "plt.bar(x, y, width = 0.7, color = 'red')\n",
        "\n",
        "plt.title('Mean of Incomes by Ages')\n",
        "plt.xlabel('Ages')\n",
        "plt.ylabel('Mean of Incomes')\n",
        "plt.show()"
      ],
      "execution_count": null,
      "outputs": []
    },
    {
      "cell_type": "code",
      "metadata": {
        "id": "tvc8ufxEZe_5"
      },
      "source": [
        "x = df1_desc['Age']\n",
        "y = df1_desc['count']\n",
        "\n",
        "plt.bar(x, y, color='blue', alpha=0.7)\n",
        "\n",
        "plt.xlabel('Ages')\n",
        "plt.ylabel('Counts')\n",
        "plt.title('Counts by Ages')\n",
        "plt.grid(True)\n",
        "\n",
        "plt.show()"
      ],
      "execution_count": null,
      "outputs": []
    },
    {
      "cell_type": "markdown",
      "metadata": {
        "id": "WECdHO990SsV"
      },
      "source": [
        "### Histogram Chart"
      ]
    },
    {
      "cell_type": "code",
      "metadata": {
        "id": "nyqqDAeZaKgH"
      },
      "source": [
        "fig = plt.figure()\n",
        "chart1 = fig.add_subplot(1,1,1)\n",
        "\n",
        "chart1.hist(df1['Age'], bins = 10)\n",
        "chart1.set_title('Histogram of Ages')\n",
        "chart1.set_xlabel('Ages')\n",
        "chart1.set_ylabel('Counts')\n",
        "\n",
        "fig.show()"
      ],
      "execution_count": null,
      "outputs": []
    },
    {
      "cell_type": "markdown",
      "metadata": {
        "id": "ZtYvqORU0eP3"
      },
      "source": [
        "### Box Plot Chart"
      ]
    },
    {
      "cell_type": "code",
      "metadata": {
        "id": "SU1mFd7ldZoG"
      },
      "source": [
        "fig = plt.figure()\n",
        "\n",
        "chart1 = fig.add_subplot(1,1,1)\n",
        "\n",
        "chart1.boxplot([df1[df1['Age']  == 30]['Income'], df1[df1['Age']  == 40]['Income'],df1[df1['Age']  == 50]['Income'],df1[df1['Age']  == 60]['Income'] ], labels = ['30', '40', '50', '60'])\n",
        "\n",
        "chart1.set_title('Boxplot of Income by Ages')\n",
        "chart1.set_xlabel('Ages')\n",
        "chart1.set_ylabel('Income')\n",
        "\n",
        "fig.show()\n"
      ],
      "execution_count": null,
      "outputs": []
    },
    {
      "cell_type": "markdown",
      "metadata": {
        "id": "R6kt3BLQ0hzT"
      },
      "source": [
        "### Pie Chart"
      ]
    },
    {
      "cell_type": "code",
      "metadata": {
        "id": "iX247NQfF1kk"
      },
      "source": [
        "df1_desc_edu = df1.groupby('Education')['Income'].describe()\n",
        "df1_desc_edu = df1_desc_edu.reset_index()\n",
        "print(df1_desc_edu)\n",
        "\n",
        "pi_data = df1_desc_edu['count']\n",
        "print(pi_data)\n",
        "\n",
        "pi_label = df1_desc_edu['Education']\n",
        "print(pi_label)\n",
        "\n",
        "\n",
        "plt.figure()\n",
        "\n",
        "plt.pie(pi_data, labels=pi_label, shadow=False)\n",
        "plt.grid(True)\n",
        "plt.legend(loc=1)\n",
        "\n",
        "plt.show()"
      ],
      "execution_count": null,
      "outputs": []
    },
    {
      "cell_type": "markdown",
      "metadata": {
        "id": "eTd1_RCN0xVo"
      },
      "source": [
        "## More and More : Seaborn 패키지"
      ]
    },
    {
      "cell_type": "markdown",
      "metadata": {
        "id": "61oI5ZoR1A7C"
      },
      "source": [
        "### Distribution Plot Chart"
      ]
    },
    {
      "cell_type": "code",
      "metadata": {
        "id": "EyQ_49-I6esq"
      },
      "source": [
        "import seaborn\n",
        "\n",
        "chart = seaborn.distplot(df1['Age'])\n",
        "chart.set_title('Density by Ages')"
      ],
      "execution_count": null,
      "outputs": []
    },
    {
      "cell_type": "code",
      "metadata": {
        "id": "FIpRAZlS7QeS"
      },
      "source": [
        "chart = seaborn.distplot(df1['Age'], kde = False)\n",
        "chart.set_title('Counts by Ages')"
      ],
      "execution_count": null,
      "outputs": []
    },
    {
      "cell_type": "code",
      "metadata": {
        "id": "0bKhzD5S7cs4"
      },
      "source": [
        "chart = seaborn.distplot(df1['Age'], hist = False)\n",
        "chart.set_title('Density by Ages')"
      ],
      "execution_count": null,
      "outputs": []
    },
    {
      "cell_type": "code",
      "metadata": {
        "id": "WjppR5du7lnt"
      },
      "source": [
        "chart = seaborn.distplot(df1['Age'], rug = True)\n",
        "chart.set_title('Density by Ages')"
      ],
      "execution_count": null,
      "outputs": []
    },
    {
      "cell_type": "markdown",
      "metadata": {
        "id": "D-IytwfW1K9X"
      },
      "source": [
        "### Regression Plot Chart"
      ]
    },
    {
      "cell_type": "code",
      "metadata": {
        "id": "-u4gPXmp76fS"
      },
      "source": [
        "data_set = seaborn.load_dataset('tips')\n",
        "print(data_set)\n",
        "\n",
        "chart = seaborn.regplot(x='total_bill', y='tip', data = data_set)"
      ],
      "execution_count": null,
      "outputs": []
    },
    {
      "cell_type": "markdown",
      "metadata": {
        "id": "W46D1BXX1Qrr"
      },
      "source": [
        "### Joint Plot Chart"
      ]
    },
    {
      "cell_type": "code",
      "metadata": {
        "id": "1_LTnGLr-QFq"
      },
      "source": [
        "chart = seaborn.jointplot(x='total_bill', y='tip', data = data_set)"
      ],
      "execution_count": null,
      "outputs": []
    },
    {
      "cell_type": "code",
      "metadata": {
        "id": "PDKF0SmC-bAa"
      },
      "source": [
        "chart = seaborn.jointplot(x='total_bill', y='tip', data = data_set, kind='hex')"
      ],
      "execution_count": null,
      "outputs": []
    },
    {
      "cell_type": "markdown",
      "metadata": {
        "id": "oCboJzUI1Xsq"
      },
      "source": [
        "### More Examples..."
      ]
    },
    {
      "cell_type": "code",
      "metadata": {
        "id": "r6dnbpH3-h2P"
      },
      "source": [
        "chart = seaborn.kdeplot(data=data_set['total_bill'], data2=data_set['tip'], shade=True)"
      ],
      "execution_count": null,
      "outputs": []
    },
    {
      "cell_type": "code",
      "metadata": {
        "id": "cz93B-_g_cZ0"
      },
      "source": [
        "chart = seaborn.boxplot(x = 'time', y='total_bill', data=data_set)"
      ],
      "execution_count": null,
      "outputs": []
    },
    {
      "cell_type": "code",
      "metadata": {
        "id": "ANAiP-Ot_wOa"
      },
      "source": [
        "chart = seaborn.boxplot(x = 'Age', y='Income', data=df1)"
      ],
      "execution_count": null,
      "outputs": []
    },
    {
      "cell_type": "code",
      "metadata": {
        "id": "r9I0jV7u_8VD"
      },
      "source": [
        "chart = seaborn.violinplot(x = 'time', y='total_bill', data=data_set)"
      ],
      "execution_count": null,
      "outputs": []
    },
    {
      "cell_type": "code",
      "metadata": {
        "id": "TkZqZ9j0AVlK"
      },
      "source": [
        "chart = seaborn.pairplot(data_set)"
      ],
      "execution_count": null,
      "outputs": []
    },
    {
      "cell_type": "code",
      "metadata": {
        "id": "5mq-EC-zAjxx"
      },
      "source": [
        "chart = seaborn.lmplot(x = 'total_bill', y='tip', data=data_set, fit_reg=False, hue='sex')"
      ],
      "execution_count": null,
      "outputs": []
    },
    {
      "cell_type": "code",
      "metadata": {
        "id": "Rn5q_9cFBlm9"
      },
      "source": [
        "chart = seaborn.lmplot(x = 'Income', y='CCAvg', data=df1, fit_reg=False, hue='PersonalLoan')"
      ],
      "execution_count": null,
      "outputs": []
    },
    {
      "cell_type": "code",
      "metadata": {
        "id": "Z6tLaSpkE2rD"
      },
      "source": [
        "chart = plt.axes(projection='3d')\n",
        "chart.scatter3D(df1['Age'], df1['Income'], df1['CCAvg'])"
      ],
      "execution_count": null,
      "outputs": []
    }
  ]
}