{
  "nbformat": 4,
  "nbformat_minor": 0,
  "metadata": {
    "kernelspec": {
      "display_name": "Python 3",
      "language": "python",
      "name": "python3"
    },
    "language_info": {
      "codemirror_mode": {
        "name": "ipython",
        "version": 3
      },
      "file_extension": ".py",
      "mimetype": "text/x-python",
      "name": "python",
      "nbconvert_exporter": "python",
      "pygments_lexer": "ipython3",
      "version": "3.6.4"
    },
    "colab": {
      "name": "Day1 - Setup and Python Basics (rev01)의 사본",
      "provenance": [],
      "collapsed_sections": [],
      "toc_visible": true
    }
  },
  "cells": [
    {
      "cell_type": "markdown",
      "metadata": {
        "id": "ofWQB125DrAs"
      },
      "source": [
        "## Google Colab 단축키\n",
        "\n",
        "- 편집 모드\n",
        " - 편집 모드로 들어가려면 셀 위에서 마우스 더블클릭\n",
        " - 편집 모드에서 나오려면 ESC 키\n",
        "\n",
        "- 코드 수행\n",
        " - Ctrl + ENTER : 해당 셀 수행: \n",
        " - Shift + ENTER = 해당 셀을 실행하고 커서를 다음 셀로 넘김\n",
        " - Alt + ENTER = 해당 셀을 실행하고 셀을 삽입한 후 커서를 삽입한 셀로 넘김 \n",
        "\n",
        "- 셀 삽입/삭제\n",
        " - Ctrl + M A: 코드 셀 위에 삽입\n",
        " - Ctrl + M B: 코드 셀 아래 삽입\n",
        " - Ctrl + M D: 셀 지우기\n",
        " - Ctrl + M Y: 코드 셀로 변경\n",
        " - Ctrl + M M: 마크다운 셀로 변경\n",
        " - Ctrl + M Z: 실행 취소\n",
        " \n",
        "- 모든 출력지우기: Ctrl + Shift + P -> \"모든 출력 지우기\"\n",
        "\n",
        "- 참고: [구글 코랩(Colab) 단축키 모음](https://surfonmedia.tistory.com/1)"
      ]
    },
    {
      "cell_type": "markdown",
      "metadata": {
        "id": "Ql66ZvN9VfWW"
      },
      "source": [
        "## 시작"
      ]
    },
    {
      "cell_type": "code",
      "metadata": {
        "id": "vnEQILA4VirD"
      },
      "source": [
        "print(\"Hello World !!!\")\n",
        "print(\"Hello World !!!\")"
      ],
      "execution_count": null,
      "outputs": []
    },
    {
      "cell_type": "code",
      "metadata": {
        "id": "vl0AxNFxXZGH"
      },
      "source": [
        "a = 110\n",
        "print(a)"
      ],
      "execution_count": null,
      "outputs": []
    },
    {
      "cell_type": "code",
      "metadata": {
        "id": "G9g03YcQXhzO"
      },
      "source": [
        "a = input(\"아무 글자나 입력해 보세요: \")\n",
        "print(a)\n",
        "\n",
        "# comment"
      ],
      "execution_count": null,
      "outputs": []
    },
    {
      "cell_type": "code",
      "metadata": {
        "id": "KbQjm4oejchx"
      },
      "source": [
        "help(print)"
      ],
      "execution_count": null,
      "outputs": []
    },
    {
      "cell_type": "markdown",
      "metadata": {
        "id": "1npLNEy2DrAu"
      },
      "source": [
        "## 기본 자료형"
      ]
    },
    {
      "cell_type": "markdown",
      "metadata": {
        "id": "f-ihD_j5RYvv"
      },
      "source": [
        "### 숫자 (Numerical)"
      ]
    },
    {
      "cell_type": "code",
      "metadata": {
        "id": "_9Hc7d78DrAu"
      },
      "source": [
        "# 덧셈\n",
        "a = 10\n",
        "b = 20\n",
        "c = a + b\n",
        "print(a, b, c)\n",
        "\n",
        "# 곱셈\n",
        "d = 30 * 40\n",
        "print(d)\n",
        "\n",
        "# 뺄셈\n",
        "e = d - 1000\n",
        "print(e)\n",
        "\n",
        "\n",
        "# 응용\n",
        "\n",
        "a = 100\n",
        "a = a + 10\n",
        "print(a)\n",
        "\n",
        "a = 100\n",
        "a += 10\n",
        "print(a)\n",
        "\n",
        "# 참고: Python에서는 a--, a++ 문법을 지원하지 않음"
      ],
      "execution_count": null,
      "outputs": []
    },
    {
      "cell_type": "code",
      "metadata": {
        "id": "UuY4_pHVco7_"
      },
      "source": [
        "# 나눗셈\n",
        "a = 100\n",
        "b = 15\n",
        "c = a / b\n",
        "\n",
        "print(a, b, c)\n",
        "\n",
        "# 나눗셈(몫)\n",
        "a = 100\n",
        "b = 15\n",
        "c = a // b\n",
        "\n",
        "print(a, b, c)\n",
        "\n",
        "# 나눗셈(나머지)\n",
        "a = 100\n",
        "b = 15\n",
        "c = a % b\n",
        "\n",
        "print(a, b, c)"
      ],
      "execution_count": null,
      "outputs": []
    },
    {
      "cell_type": "code",
      "metadata": {
        "id": "8oPRLBqShZbm"
      },
      "source": [
        "a = 2 ** 4\n",
        "print(a)\n",
        "\n",
        "a = 3 ** 2\n",
        "print(a)"
      ],
      "execution_count": null,
      "outputs": []
    },
    {
      "cell_type": "code",
      "metadata": {
        "id": "S4H9JsLJoL9L"
      },
      "source": [
        "# 반올림: round(숫자) 혹은 round(숫자, 반올림 자리수)\n",
        "\n",
        "print(round(3.4))\n",
        "print(round(3.6))\n",
        "\n",
        "print(round(3.141592, 3))"
      ],
      "execution_count": null,
      "outputs": []
    },
    {
      "cell_type": "code",
      "metadata": {
        "id": "BxUT4JTEtFEp"
      },
      "source": [
        "# 정수(int)와 실수(float) 자료형에 대해서\n",
        "\n",
        "a = 3.141592\n",
        "print(a, type(a))\n",
        "\n",
        "a = 3\n",
        "print(a, type(a))\n",
        "\n",
        "a = 3.141592\n",
        "a = int(a)\n",
        "print(a, type(a))\n",
        "\n",
        "a = 3\n",
        "a = float (a)\n",
        "print(a, type(a))"
      ],
      "execution_count": null,
      "outputs": []
    },
    {
      "cell_type": "markdown",
      "metadata": {
        "id": "RBkezSYfDrAv"
      },
      "source": [
        "### 문자열 (String)"
      ]
    },
    {
      "cell_type": "code",
      "metadata": {
        "id": "CBnr8DYJDrAw"
      },
      "source": [
        "a = \"It's a happy day\"\n",
        "print(a)\n",
        "print(type(a))\n",
        "\n",
        "a = \"It's a happy day \\n Because today is Monday \\n Oh happy day~~~ \"\n",
        "print(a)\n",
        "\n",
        "a = '''\n",
        "It's a happy day\n",
        "Because today is Monday\n",
        "Oh happy day~~~\n",
        "'''\n",
        "print(a)"
      ],
      "execution_count": null,
      "outputs": []
    },
    {
      "cell_type": "code",
      "metadata": {
        "id": "qdrqQuTzsvJI"
      },
      "source": [
        "a = \"Today is \"\n",
        "b = \"happy day! \"\n",
        "c = a + b\n",
        "print(c)\n",
        "\n",
        "c = c * 3\n",
        "print(c)\n",
        "\n",
        "print(\"=\" * 25)"
      ],
      "execution_count": null,
      "outputs": []
    },
    {
      "cell_type": "code",
      "metadata": {
        "id": "SMv-U98WDrAw"
      },
      "source": [
        "a = \"0123456\"\n",
        "print(a[0])\n",
        "print(a[6])\n",
        "print(a[-1])\n",
        "print(a[-2])"
      ],
      "execution_count": null,
      "outputs": []
    },
    {
      "cell_type": "code",
      "metadata": {
        "id": "0djm3mAFDrAx"
      },
      "source": [
        "a = \"0123456\"\n",
        "print(a)\n",
        "print(a[:])\n",
        "\n",
        "print('---')\n",
        "\n",
        "print(a[:3])\n",
        "print(a[0:3])\n",
        "\n",
        "print('---')\n",
        "\n",
        "print(a[1:3])\n",
        "\n",
        "print('---')\n",
        "\n",
        "print(a[3:])"
      ],
      "execution_count": null,
      "outputs": []
    },
    {
      "cell_type": "code",
      "metadata": {
        "id": "C8yqjOVADrAx"
      },
      "source": [
        "# 주의: 문자열은 값을 바꿀 수 없음\n",
        "\n",
        "a = \"Pithon\"\n",
        "#a[1] = 'y'    # 오류"
      ],
      "execution_count": null,
      "outputs": []
    },
    {
      "cell_type": "code",
      "metadata": {
        "id": "E0VQaRS0DrAy"
      },
      "source": [
        "# 기존 문자열에서 새로운 문자열 만들기 \n",
        "\n",
        "b = a [:1] + 'y'+ a[2:]\n",
        "print(b)"
      ],
      "execution_count": null,
      "outputs": []
    },
    {
      "cell_type": "code",
      "metadata": {
        "id": "gcV5yVGJDrAz"
      },
      "source": [
        "# 문자열 출력 포매팅 1\n",
        "\n",
        "a = 3\n",
        "print(\"I eat\", a, \"apples\")\n",
        "\n",
        "print(\"I eat %d apples\" % a)\n",
        "print(\"I eat %s apples\" % \"three\")\n",
        "\n",
        "print(\"I eat %d apples , I eat %s apples\" % (a,\"three\"))\n",
        "\n",
        "print(\"I eat %f apples\" % 3.14)\n",
        "print(\"I eat %s apples\" % 3.14)\n",
        "\n",
        "print(\"%d %% increased.\" % 4)"
      ],
      "execution_count": null,
      "outputs": []
    },
    {
      "cell_type": "code",
      "metadata": {
        "id": "wydLmmtsDrAz"
      },
      "source": [
        "# 문자열 출력 포매팅 2\n",
        "\n",
        "print(\"|%10d|\" % 314)\n",
        "print(\"|%-10d|\" % 314)\n",
        "print(\"|%10.2f|\" % 3.141592)"
      ],
      "execution_count": null,
      "outputs": []
    },
    {
      "cell_type": "code",
      "metadata": {
        "id": "lXpT9QIaDrAz"
      },
      "source": [
        "# 문자열에서 찾기\n",
        "\n",
        "a = \"hobby\"\n",
        "\n",
        "print(a.count('b'))\n",
        "\n",
        "print(a.find('o'))\n",
        "print(a.find('s')) # 찾는 문자가 없으면 -1 출력\n",
        "\n",
        "print(a.index('o'))\n",
        "# print(a.index('s')) # 찾는 문자가 없으면 오류 출력\n"
      ],
      "execution_count": null,
      "outputs": []
    },
    {
      "cell_type": "code",
      "metadata": {
        "id": "mntRTGkBDrA0"
      },
      "source": [
        "# 다양한 문자열 함수\n",
        "\n",
        "a = \",\"\n",
        "b = a.join('abcd')\n",
        "print(b)\n",
        "\n",
        "a = '   Hi there   '\n",
        "\n",
        "print('|' + a.upper() + '|')\n",
        "print('|' + a.lower() + '|')\n",
        "\n",
        "print('|' + a.lstrip() + '|')\n",
        "print('|' + a.rstrip() + '|')\n",
        "print('|' + a.strip() + '|')\n",
        "\n",
        "print(a.replace(\"hi\", \"hello\"))\n",
        "\n",
        "a = \"12345678\"\n",
        "print(len(a))"
      ],
      "execution_count": null,
      "outputs": []
    },
    {
      "cell_type": "markdown",
      "metadata": {
        "id": "cVkpQfODDrA4"
      },
      "source": [
        "### 불리언 (Boolean) : 참/거짓"
      ]
    },
    {
      "cell_type": "code",
      "metadata": {
        "id": "6Jr6aQ24DrA4"
      },
      "source": [
        "a = True\n",
        "b = False\n",
        "\n",
        "print(a, b)"
      ],
      "execution_count": null,
      "outputs": []
    },
    {
      "cell_type": "markdown",
      "metadata": {
        "id": "tiTcJecUDrA5"
      },
      "source": [
        "## 제어문 (if)"
      ]
    },
    {
      "cell_type": "code",
      "metadata": {
        "id": "LO5rtb2LDrA5"
      },
      "source": [
        "a = 401\n",
        "\n",
        "if a >= 400 :\n",
        "    print(\"larger than or equal to 400\")\n",
        "else:\n",
        "    print(\"smaller than 400\")"
      ],
      "execution_count": null,
      "outputs": []
    },
    {
      "cell_type": "code",
      "metadata": {
        "id": "-8pQzOTDtq49"
      },
      "source": [
        "a = 31\n",
        "\n",
        "if a == 31:\n",
        "  print('a is  30')\n",
        "else:\n",
        "  print('a is not 30') \n",
        "\n",
        "if a != 30:       # != 대신 is not을 사용할 수 있음\n",
        "  print('a is not 30')\n",
        "else:\n",
        "  print('a is 30') "
      ],
      "execution_count": null,
      "outputs": []
    },
    {
      "cell_type": "code",
      "metadata": {
        "id": "YKAtQKHeDrA5"
      },
      "source": [
        "a = \"check\"\n",
        "\n",
        "if a == \"test\":\n",
        "    print(\"TEST\")\n",
        "elif a == \"check\":\n",
        "    print(\"CHECK\")\n",
        "elif a == \"then\":\n",
        "    print(\"THEN\")\n",
        "else:\n",
        "    print(\"OTHERS\")"
      ],
      "execution_count": null,
      "outputs": []
    },
    {
      "cell_type": "markdown",
      "metadata": {
        "id": "G_jCRN3ODrA5"
      },
      "source": [
        "## 반복문"
      ]
    },
    {
      "cell_type": "markdown",
      "metadata": {
        "id": "4L-fgofP2qJx"
      },
      "source": [
        "### WHILE문"
      ]
    },
    {
      "cell_type": "code",
      "metadata": {
        "id": "JtS1AVjeDrA5"
      },
      "source": [
        "a = 0\n",
        "total = 0\n",
        "\n",
        "while a <= 10:\n",
        "  total = total + a\n",
        "  a = a + 1\n",
        "\n",
        "print(total)\n",
        "\n",
        "a = 0\n",
        "total = 0\n",
        "\n",
        "while True:\n",
        "  a = a + 1\n",
        "  total = total + a\n",
        "  if a == 10: \n",
        "    break\n",
        "\n",
        "print(total)"
      ],
      "execution_count": null,
      "outputs": []
    },
    {
      "cell_type": "markdown",
      "metadata": {
        "id": "dJXqq1hUDrA5"
      },
      "source": [
        "### FOR문"
      ]
    },
    {
      "cell_type": "code",
      "metadata": {
        "id": "43yBv1hD22w1"
      },
      "source": [
        "# range함수 \n",
        "\n",
        "a = range(0,10)\n",
        "print(list(a))\n",
        "\n",
        "a = range(0,10,2)\n",
        "print(list(a))\n"
      ],
      "execution_count": null,
      "outputs": []
    },
    {
      "cell_type": "code",
      "metadata": {
        "id": "RE5wA9yPntM9"
      },
      "source": [
        "for i in range(0,10):\n",
        "  print(i)"
      ],
      "execution_count": null,
      "outputs": []
    },
    {
      "cell_type": "code",
      "metadata": {
        "id": "rVhzZQqKo01q"
      },
      "source": [
        "for i in range(10):\n",
        "  print(i)\n",
        "\n",
        "for i in range(10):\n",
        "  print(i, end=' ')"
      ],
      "execution_count": null,
      "outputs": []
    },
    {
      "cell_type": "code",
      "metadata": {
        "id": "vPad2QM6DrA5"
      },
      "source": [
        "a = [\"Lim\", \"Park\", \"Shin\", \"Kim\", \"Lee\"]\n",
        "\n",
        "for i in a:\n",
        "    print(i)\n",
        "\n",
        "for i in a:\n",
        "  print(i, end=' ')"
      ],
      "execution_count": null,
      "outputs": []
    },
    {
      "cell_type": "markdown",
      "metadata": {
        "id": "RVQGA9Q5DrA6"
      },
      "source": [
        "## 함수"
      ]
    },
    {
      "cell_type": "code",
      "metadata": {
        "id": "qbaRTkp-DrA6"
      },
      "source": [
        "def sum(a,b):\n",
        "    return a+b\n",
        "\n",
        "a = 3\n",
        "b = 4\n",
        "\n",
        "c = sum(a,b)\n",
        "print(c)"
      ],
      "execution_count": null,
      "outputs": []
    },
    {
      "cell_type": "code",
      "metadata": {
        "id": "AscVPKMqDrA6"
      },
      "source": [
        "def sum_and_mul(a,b):\n",
        "    return a+b, a*b\n",
        "\n",
        "c, d = sum_and_mul(4,5) \n",
        "\n",
        "print(c, d)"
      ],
      "execution_count": null,
      "outputs": []
    },
    {
      "cell_type": "code",
      "metadata": {
        "id": "jSl4eqHkqRcJ"
      },
      "source": [
        "# lambda를 사용한 간단한 함수\n",
        "\n",
        "add = lambda a, b : a + b\n",
        "add(2,3)"
      ],
      "execution_count": null,
      "outputs": []
    }
  ]
}