{
  "nbformat": 4,
  "nbformat_minor": 0,
  "metadata": {
    "colab": {
      "name": "Day3 - Data Analysis Basics(rev).ipynb",
      "provenance": [],
      "collapsed_sections": [],
      "toc_visible": true
    },
    "kernelspec": {
      "name": "python3",
      "display_name": "Python 3"
    },
    "language_info": {
      "name": "python"
    }
  },
  "cells": [
    {
      "cell_type": "markdown",
      "metadata": {
        "id": "rNyU_9ISqySE"
      },
      "source": [
        "## 데이터 읽어오기"
      ]
    },
    {
      "cell_type": "code",
      "metadata": {
        "id": "LWk761GK6fX8"
      },
      "source": [
        "# CSV 파일에서 읽어오기\n",
        "\n",
        "import pandas\n",
        "\n",
        "df1 = pandas.read_csv(\"https://raw.githubusercontent.com/YONESI-DBIS/DS_Lecture/main/UB_Data.csv\")\n",
        "print(df1)\n",
        "print(\"=\" * 20)\n",
        "df1.head()"
      ],
      "execution_count": null,
      "outputs": []
    },
    {
      "cell_type": "markdown",
      "metadata": {
        "id": "CqHYTQG3mivJ"
      },
      "source": [
        "## 기본적인 데이터 통계 (Revisit)"
      ]
    },
    {
      "cell_type": "code",
      "metadata": {
        "id": "4QWe0x9lp46k"
      },
      "source": [
        "# 통계 요약\n",
        "\n",
        "df1.describe()"
      ],
      "execution_count": null,
      "outputs": []
    },
    {
      "cell_type": "code",
      "metadata": {
        "id": "qVeJgYZ5rXhr"
      },
      "source": [
        "# 그룹\n",
        "\n",
        "df1.groupby('Age')['Income'].describe()"
      ],
      "execution_count": null,
      "outputs": []
    },
    {
      "cell_type": "markdown",
      "metadata": {
        "id": "FvczSg5MtHkz"
      },
      "source": [
        "- 여기서 잠깐! 함수(function)을 배워봅시다)"
      ]
    },
    {
      "cell_type": "code",
      "metadata": {
        "id": "Zaa0aHbbtah4"
      },
      "source": [
        "def sum(a,b):\n",
        "    return a+b\n",
        "\n",
        "a = 3\n",
        "b = 4\n",
        "\n",
        "c = sum(a,b)\n",
        "print(c)"
      ],
      "execution_count": null,
      "outputs": []
    },
    {
      "cell_type": "code",
      "metadata": {
        "id": "zVG-UtN8tb77"
      },
      "source": [
        "def sum_and_mul(a,b):\n",
        "    return a+b, a*b\n",
        "\n",
        "c, d = sum_and_mul(4,5) \n",
        "\n",
        "print(c, d)"
      ],
      "execution_count": null,
      "outputs": []
    },
    {
      "cell_type": "code",
      "metadata": {
        "id": "m0gboyKhtdtS"
      },
      "source": [
        "# lambda를 사용한 간단한 함수\n",
        "\n",
        "add = lambda a, b : a + b\n",
        "add(2,3)"
      ],
      "execution_count": null,
      "outputs": []
    },
    {
      "cell_type": "markdown",
      "metadata": {
        "id": "HCjELsRXt3HY"
      },
      "source": [
        "## t-검정\n",
        "\n",
        "- 모집단의 분산이나 표준편차를 알지 못할 때\n",
        "- 모집단을 대표하는 표본으로부터 추정된 분산이나 표준편차를 가지고 검정하는 방법\n",
        "- “두 모집단의 평균간의 차이는 없다”라는 귀무가설과 “두 모집단의 평균 간에 차이가 있다”라는 대립가설 중에 하나를 선택할 수 있도록 하는 통계적 검정방법\n"
      ]
    },
    {
      "cell_type": "code",
      "metadata": {
        "id": "JyYo4scerCIu"
      },
      "source": [
        "from scipy import stats\n",
        "\n",
        "age1_income = df1.loc[df1['Age'] == 27, 'Income']\n",
        "age2_income = df1.loc[df1['Age'] == 28, 'Income']\n",
        "\n",
        "# 두 개의 독립적인 표본에 대한 t값과 p값 계산 (통계학적으로 p > 0.05 면 두 표본이 유사하다고 판정)\n",
        "print(stats.ttest_ind(age1_income, age2_income))"
      ],
      "execution_count": null,
      "outputs": []
    },
    {
      "cell_type": "code",
      "metadata": {
        "id": "DhUkaJ3Out5k"
      },
      "source": [
        "ages = df1.Age.unique()\n",
        "print(ages)\n",
        "\n",
        "ages.sort()\n",
        "print(ages)"
      ],
      "execution_count": null,
      "outputs": []
    },
    {
      "cell_type": "code",
      "metadata": {
        "id": "OATkoOTTv3cj"
      },
      "source": [
        "for i in ages:\n",
        "  for j in ages:\n",
        "    age1_income = df1.loc[df1['Age'] == i, 'Income']\n",
        "    age2_income = df1.loc[df1['Age'] == j, 'Income']\n",
        "    print(i, \"-\", j, \" : \", stats.ttest_ind(age1_income, age2_income)) "
      ],
      "execution_count": null,
      "outputs": []
    },
    {
      "cell_type": "code",
      "metadata": {
        "id": "eitb16e7v-LV"
      },
      "source": [
        "def getAgeIncome (a, b):\n",
        "  age1_income = df1.loc[df1['Age'] == a, 'Income']\n",
        "  age2_income = df1.loc[df1['Age'] == b, 'Income']\n",
        "  return age1_income, age2_income\n",
        "\n",
        "for i in ages:\n",
        "  for j in ages:\n",
        "    age1, age2 = getAgeIncome(i, j)\n",
        "    print(i, \"-\", j, \" : \", stats.ttest_ind(age1, age2))\n"
      ],
      "execution_count": null,
      "outputs": []
    },
    {
      "cell_type": "markdown",
      "metadata": {
        "id": "28L_c4vCJuTz"
      },
      "source": [
        "## 카이제곱 검정"
      ]
    },
    {
      "cell_type": "code",
      "metadata": {
        "id": "4UHPUDBbJxHZ"
      },
      "source": [
        "import scipy.stats\n",
        "import numpy as np\n",
        "\n",
        "chi2, pvalue, dof, expected = scipy.stats.chi2_contingency(df1[['Age', 'Income']])\n",
        "print('검정통계량', chi2)\n",
        "print('p값', pvalue)\n",
        "print('자유도', dof)"
      ],
      "execution_count": null,
      "outputs": []
    },
    {
      "cell_type": "markdown",
      "metadata": {
        "id": "g89BxwVQ3XNe"
      },
      "source": [
        "## 선형회귀분석"
      ]
    },
    {
      "cell_type": "code",
      "metadata": {
        "id": "-DG7yUg7xXak"
      },
      "source": [
        "# 데이터 준비\n",
        "\n",
        "from statsmodels.formula.api import ols, glm\n",
        "import seaborn\n",
        "\n",
        "df1_desc = df1.groupby('Age')['Income'].describe()\n",
        "#print(df1_desc)\n",
        "df1_desc = df1_desc.reset_index()\n",
        "#print(df1_desc)"
      ],
      "execution_count": null,
      "outputs": []
    },
    {
      "cell_type": "code",
      "metadata": {
        "id": "9lgk6EMBw8NY"
      },
      "source": [
        "# 시각적으로 확인\n",
        "\n",
        "seaborn.regplot('Age', 'mean', lowess=True, data = df1_desc)     # LOWESS (locally weighted scatterplot smoothing)"
      ],
      "execution_count": null,
      "outputs": []
    },
    {
      "cell_type": "code",
      "metadata": {
        "id": "eTYbZR4y3Tp4"
      },
      "source": [
        "# Ordinary Least Squares\n",
        "# 종속변수 ~ 독립변수1 + 독립변수2 + ... 의 형태\n",
        "\n",
        "res = ols('mean ~ Age', data=df1_desc).fit()   # fit()은 가중치 값을 추정\n",
        "res.summary()"
      ],
      "execution_count": null,
      "outputs": []
    },
    {
      "cell_type": "code",
      "metadata": {
        "id": "bRGhUejG7gor"
      },
      "source": [
        "res = ols('Income ~ Age + Experience + Education', data=df1).fit()\n",
        "res.summary()"
      ],
      "execution_count": null,
      "outputs": []
    },
    {
      "cell_type": "code",
      "metadata": {
        "id": "zovPB0bm5ZDb"
      },
      "source": [
        "# Generalized Linear Model\n",
        "\n",
        "res = glm('Income ~ Age + Experience + Education', data=df1).fit()\n",
        "res.summary()\n"
      ],
      "execution_count": null,
      "outputs": []
    },
    {
      "cell_type": "code",
      "metadata": {
        "id": "wBWVICMm8M5p"
      },
      "source": [
        "## 예측\n",
        "\n",
        "# 데이터 준비\n",
        "\n",
        "df_test = df1[df1.columns.difference(['Income'])]\n",
        "df_test = df_test[0:5][:]\n",
        "print(df_test)"
      ],
      "execution_count": null,
      "outputs": []
    },
    {
      "cell_type": "code",
      "metadata": {
        "id": "sth4g-iD94zA"
      },
      "source": [
        "res = ols('Income ~ Age + Experience + Education', data=df1).fit()\n",
        "\n",
        "predict_result = res.predict(df_test)\n",
        "print(predict_result)\n",
        "print('=' * 20)\n",
        "print(df1[0:5]['Income'])"
      ],
      "execution_count": null,
      "outputs": []
    },
    {
      "cell_type": "code",
      "metadata": {
        "id": "q1fi6LAV92se"
      },
      "source": [
        "res = glm('Income ~ Age + Experience + Education', data=df1).fit()\n",
        "\n",
        "predict_result = res.predict(df_test)\n",
        "print(predict_result)\n",
        "print('=' * 20)\n",
        "print(df1[0:5]['Income'])"
      ],
      "execution_count": null,
      "outputs": []
    },
    {
      "cell_type": "code",
      "metadata": {
        "id": "eNnrmNMB-jLc"
      },
      "source": [
        "seaborn.regplot('Age', 'Income', lowess=True, data = df1)"
      ],
      "execution_count": null,
      "outputs": []
    },
    {
      "cell_type": "markdown",
      "metadata": {
        "id": "MgFTi-ykaXsp"
      },
      "source": [
        "## 로지스틱 회귀분석"
      ]
    },
    {
      "cell_type": "code",
      "metadata": {
        "id": "REwkLupGadbD"
      },
      "source": [
        "import numpy\n",
        "import sklearn\n",
        "\n",
        "from sklearn.model_selection import train_test_split\n",
        "from sklearn.linear_model import LogisticRegression\n",
        "\n",
        "from sklearn.metrics import confusion_matrix, accuracy_score\n",
        "from sklearn.metrics import precision_score, recall_score, f1_score, roc_auc_score\n",
        "\n",
        "\n",
        "# Data 읽어오기\n",
        "cancer_data = sklearn.datasets.load_breast_cancer()\n",
        "#print(cancer_data)\n",
        "#print(cancer_data.DESCR)\n",
        "#print(cancer_data.feature_names)\n",
        "#print(cancer_data.target)"
      ],
      "execution_count": null,
      "outputs": []
    },
    {
      "cell_type": "code",
      "metadata": {
        "id": "0YEr8LZix_9i"
      },
      "source": [
        "# Dataframe 만들기\n",
        "cancer_df = pandas.DataFrame(cancer_data.data, columns = cancer_data.feature_names)\n",
        "#print(cancer_df)\n",
        "cancer_df['diagnosis'] = cancer_data.target\n",
        "#print(cancer_df)\n",
        "\n",
        "#print(cancer_df['diagnosis'].head(30))\n",
        "\n",
        "# Datafrema 확인\n",
        "cancer_df.info()"
      ],
      "execution_count": null,
      "outputs": []
    },
    {
      "cell_type": "code",
      "metadata": {
        "id": "JoOKQ0Q1yAep"
      },
      "source": [
        "# 데이터 변환 (평균 1, 분산 1)\n",
        "scaler = sklearn.preprocessing.StandardScaler()\n",
        "scaled_cancer_df = scaler.fit_transform(cancer_df)\n",
        "\n",
        "#print(cancer_df)\n",
        "#print(scaled_cancer_df)"
      ],
      "execution_count": null,
      "outputs": []
    },
    {
      "cell_type": "code",
      "metadata": {
        "id": "Rq-1gpcEyApH"
      },
      "source": [
        "# 모델 학습\n",
        "\n",
        "Y = cancer_df['diagnosis']\n",
        "X = scaled_cancer_df\n",
        "\n",
        "X_train, X_test, Y_train, Y_test = train_test_split(X, Y, test_size = 0.3, random_state = 1)\n",
        "\n",
        "model = sklearn.linear_model.LogisticRegression()\n",
        "model.fit(X_train, Y_train)"
      ],
      "execution_count": null,
      "outputs": []
    },
    {
      "cell_type": "code",
      "metadata": {
        "id": "SWlzuEJhyOHT"
      },
      "source": [
        "# 예측\n",
        "\n",
        "predict = model.predict(X_test)\n",
        "\n",
        "print(\"=\" * 20)\n",
        "print(list(Y_test))\n",
        "print(\"=\" * 20)\n",
        "print(predict)"
      ],
      "execution_count": null,
      "outputs": []
    },
    {
      "cell_type": "code",
      "metadata": {
        "id": "W_8N5GIEyQAV"
      },
      "source": [
        "# 예측결과 분석\n",
        "\n",
        "confusion_matrix(Y_test, predict)\n",
        "\n",
        "acccuracy = accuracy_score(Y_test, predict)\n",
        "precision = precision_score(Y_test, predict)\n",
        "recall = recall_score(Y_test, predict)\n",
        "f1 = f1_score(Y_test, predict)\n",
        "roc_auc = roc_auc_score(Y_test, predict)\n",
        "\n",
        "print('정확도: {0:.3f}, 정밀도: {1:.3f}, 재현율: {2:.3f},  F1: {3:.3f}'.format(acccuracy,precision,recall,f1))"
      ],
      "execution_count": null,
      "outputs": []
    },
    {
      "cell_type": "markdown",
      "metadata": {
        "id": "36ZVRmK8-J3P"
      },
      "source": [
        "## 상관관계 분석"
      ]
    },
    {
      "cell_type": "code",
      "metadata": {
        "id": "QkCqLB_vBUjV"
      },
      "source": [
        "# 전체 \n",
        "\n",
        "print(df1.corr())"
      ],
      "execution_count": null,
      "outputs": []
    },
    {
      "cell_type": "code",
      "metadata": {
        "id": "61O536V-yf0f"
      },
      "source": [
        "# 특정 컬럼\n",
        "\n",
        "print(df1.corr()['Income'])"
      ],
      "execution_count": null,
      "outputs": []
    },
    {
      "cell_type": "code",
      "metadata": {
        "id": "kara2YuhEAqS"
      },
      "source": [
        "column_names = list(df1.columns)\n",
        "\n",
        "for name in column_names:\n",
        "  print(\"==============\", name)\n",
        "  print(df1.corr()[name]) "
      ],
      "execution_count": null,
      "outputs": []
    },
    {
      "cell_type": "code",
      "metadata": {
        "id": "_xgG5EnnIEn5"
      },
      "source": [
        "print(\"=== Pearson correlation coefficient (DEFAULT)\")\n",
        "print(df1.corr(method = 'pearson')['Age'])\n",
        "\n",
        "print(\"=== Spearman rank correlation\")\n",
        "print(df1.corr(method = 'spearman')['Age'])\n",
        "\n",
        "print(\"=== Kendall Tau correlation coefficient\")\n",
        "print(df1.corr(method = 'kendall')['Age'])"
      ],
      "execution_count": null,
      "outputs": []
    }
  ]
}